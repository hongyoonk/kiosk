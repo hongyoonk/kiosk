{
 "cells": [
  {
   "cell_type": "code",
   "execution_count": 12,
   "metadata": {},
   "outputs": [],
   "source": [
    "import os\n",
    "import cv2\n",
    "import dlib\n",
    "import numpy as np\n",
    "import pandas as pd\n",
    "\n",
    "# Load the cascade\n",
    "face_cascade = cv2.CascadeClassifier(cv2.data.haarcascades + 'haarcascade_frontalface_default.xml')\n",
    "\n",
    "# Function to detect faces in an image\n",
    "def detect_face(image_path):\n",
    "    image_path = image_path.replace('\\\\', '/')\n",
    "    image_path = image_path.replace('kiosk_app/', '')\n",
    "    img = cv2.imread(image_path)\n",
    "    gray = cv2.cvtColor(img, cv2.COLOR_BGR2GRAY)\n",
    "    #에러 발생 시 0으로 반환\n",
    "    try:\n",
    "        faces = face_cascade.detectMultiScale(gray, scaleFactor=1.3, minNeighbors=5)\n",
    "        return len(faces) > 0\n",
    "    except:\n",
    "        return 0\n",
    "\n",
    "# Function to save user information to CSV file\n",
    "def save_to_csv(name, age, photo_filename):\n",
    "    csv_filename = 'kiosk_app/customerDatabase.csv'\n",
    "    data = {'Name': [name], 'Age': [age], 'Photo': [photo_filename]}\n",
    "    df = pd.DataFrame(data)\n",
    "    if not os.path.exists(csv_filename):\n",
    "        df.to_csv(csv_filename, index=False)\n",
    "    else:\n",
    "        df.to_csv(csv_filename, mode='a', header=False, index=False)"
   ]
  },
  {
   "cell_type": "code",
   "execution_count": 13,
   "metadata": {},
   "outputs": [
    {
     "name": "stdout",
     "output_type": "stream",
     "text": [
      "False\n"
     ]
    }
   ],
   "source": [
    "print(detect_face('kiosk_app\\\\data/000742.png'))"
   ]
  },
  {
   "cell_type": "code",
   "execution_count": null,
   "metadata": {},
   "outputs": [],
   "source": []
  }
 ],
 "metadata": {
  "kernelspec": {
   "display_name": "base",
   "language": "python",
   "name": "python3"
  },
  "language_info": {
   "codemirror_mode": {
    "name": "ipython",
    "version": 3
   },
   "file_extension": ".py",
   "mimetype": "text/x-python",
   "name": "python",
   "nbconvert_exporter": "python",
   "pygments_lexer": "ipython3",
   "version": "3.9.16"
  }
 },
 "nbformat": 4,
 "nbformat_minor": 2
}
